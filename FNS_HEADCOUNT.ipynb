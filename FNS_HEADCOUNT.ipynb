{
 "cells": [
  {
   "cell_type": "code",
   "execution_count": null,
   "metadata": {
    "collapsed": true
   },
   "outputs": [],
   "source": [
    "import os, json\n",
    "from xml.dom import minidom\n",
    "import pandas as pd\n",
    "\n",
    "source_path = 'D:/FNS_files_quantity_workers/source_files/' # папка с распакованными файлами ФНС\n",
    "results_path = 'D:/FNS_files_quantity_workers/result_files/'\n",
    "\n",
    "files = os.listdir(source_path)"
   ]
  },
  {
   "cell_type": "code",
   "execution_count": null,
   "metadata": {
    "collapsed": true
   },
   "outputs": [],
   "source": [
    "def parse_line(line): # извлечение одной компании\n",
    "    date = line.attributes['ДатаСост'].value\n",
    "    inn = line.getElementsByTagName('СведНП')[0].attributes['ИННЮЛ'].value\n",
    "    name = line.getElementsByTagName('СведНП')[0].attributes['НаимОрг'].value\n",
    "    personel = line.getElementsByTagName('СведССЧР')[0].attributes['КолРаб'].value\n",
    "    return {'date': date, 'inn': inn, 'name': name, 'personel': personel}\n",
    "\n",
    "def get_inn(line): # извлечение ИНН\n",
    "    return line.getElementsByTagName('СведНП')[0].attributes['ИННЮЛ'].value\n",
    "\n",
    "def parse_file(file): # распасить весь файл, file - один файл из набора\n",
    "    mydoc = minidom.parse(file)\n",
    "    lines = mydoc.getElementsByTagName('Документ')\n",
    "    total = []\n",
    "    for line in lines:\n",
    "        total.append(parse_line(line))\n",
    "    return total\n",
    "\n",
    "def save_files(file_list, result_file_name):\n",
    "                #file_list - все файлы в наборе в виде списка, result_file_name - имя распарсенного файла\n",
    "    empty = []\n",
    "    for file in file_list:\n",
    "        empty.extend(parse_file(source_path + file))\n",
    "    with open('%s%s.json' % (results_path, result_file_name), 'w') as outfile:\n",
    "        json.dump(empty, outfile)\n",
    "\n",
    "def filter_file(file): # сохранить JSON с информацией, у скольких компаний из файла 0-5 работников из распарсенного JSON\n",
    "    with open(results_path + file, encoding='utf-8') as data_file: \n",
    "        data = json.loads(data_file.read())\n",
    "    df = pd.DataFrame(data)\n",
    "    df.personel = df.personel.astype('int64')\n",
    "    zeros = df[df.personel == 0]\n",
    "    ones = df[df.personel == 1]\n",
    "    twos = df[df.personel == 2]\n",
    "    threes = df[df.personel == 3]\n",
    "    fours =  df[df.personel == 4]\n",
    "    fives =  df[df.personel == 5]\n",
    "    return {'total' : len(df), 'zeros' : len(zeros),\n",
    "                               'ones' : len(ones),\n",
    "                               'twos' : len(twos),\n",
    "                               'threes' : len(threes),\n",
    "                               'fours' : len(fours),\n",
    "                               'fives' : len(fives)}"
   ]
  },
  {
   "cell_type": "code",
   "execution_count": null,
   "metadata": {},
   "outputs": [],
   "source": [
    "save_files(files, 'result.json')\n",
    "\n",
    "# сколько компаний с 0-5 работников\n",
    "frames = filter_file(results_path + 'result.json')\n",
    "pd.DataFrame(frames).to_csv('D:/FNS_files_quantity_workers/сколько всего компаний по 0-5 работников.csv')"
   ]
  },
  {
   "cell_type": "code",
   "execution_count": null,
   "metadata": {
    "collapsed": true
   },
   "outputs": [],
   "source": [
    "frames = []\n",
    "for file in files:\n",
    "    frames.extend(parse_file(source_path + file))\n",
    "df = pd.DataFrame(frames)\n",
    "df.personel = df.personel.astype('int64')\n",
    "\n",
    "df[df.personel == 0].to_csv('D:\\FNS_files_quantity_workers\\все компании с числом сотрудников 0.csv')\n",
    "df[df.personel > 5].sort_values('personel', ascending = False)\\\n",
    "                   .head(200).to_csv('D:\\FNS_files_quantity_workers\\200 компаний с наибольшим числом сотрудников.csv')"
   ]
  },
  {
   "cell_type": "code",
   "execution_count": null,
   "metadata": {
    "collapsed": true
   },
   "outputs": [],
   "source": [
    "# поиск имени файла, в котором находится определенная компания \n",
    "for file in files:\n",
    "    mydoc = minidom.parse(source_path + file)\n",
    "    lines = mydoc.getElementsByTagName('Документ')\n",
    "    for line in lines:\n",
    "        inn = get_inn(line)\n",
    "        if inn == '1609029939':\n",
    "            print(file)"
   ]
  }
 ],
 "metadata": {
  "kernelspec": {
   "display_name": "Python 3",
   "language": "python",
   "name": "python3"
  },
  "language_info": {
   "codemirror_mode": {
    "name": "ipython",
    "version": 3
   },
   "file_extension": ".py",
   "mimetype": "text/x-python",
   "name": "python",
   "nbconvert_exporter": "python",
   "pygments_lexer": "ipython3",
   "version": "3.6.1"
  }
 },
 "nbformat": 4,
 "nbformat_minor": 2
}
